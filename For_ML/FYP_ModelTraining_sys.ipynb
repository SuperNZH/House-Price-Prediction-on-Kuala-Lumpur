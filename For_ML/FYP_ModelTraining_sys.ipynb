{
 "cells": [
  {
   "cell_type": "code",
   "execution_count": 7,
   "metadata": {},
   "outputs": [],
   "source": [
    "import pandas as pd\n",
    "import numpy as np\n",
    "import matplotlib.pyplot as plt\n",
    "import os\n",
    "from sklearn.model_selection import train_test_split\n",
    "import sklearn.feature_selection\n",
    "from sklearn.preprocessing import StandardScaler\n",
    "import warnings\n",
    "# filter warnings\n",
    "warnings.filterwarnings('ignore')\n",
    "# 正常显示中文\n",
    "from pylab import mpl\n",
    "mpl.rcParams['font.sans-serif'] = ['SimHei']\n",
    "# 正常显示符号\n",
    "from matplotlib import rcParams\n",
    "rcParams['axes.unicode_minus']=False\n",
    "properties = pd.read_csv('dataset/PropertiesAfterPreprocessed_For_ModelTraining.csv')\n",
    "Xy = properties.loc[properties[\"Size Type\"] == \"Built-up\"]\n",
    "\n",
    "Xy = Xy.loc[:, [\n",
    "    \"Location\", \"Bathrooms\", \"Car Parks\", \"Furnishing\", \n",
    "    \"Rooms Num\", \"Property Type Supergroup\", \"Size Num\", \n",
    "    \"Price\", \"Price per Area\", \"Price per Room\"]]\n",
    "\n",
    "Xy.loc[:, \"Car Parks\"] = Xy[\"Car Parks\"].fillna(0)\n",
    "\n",
    "Xy = Xy.loc[Xy.isna().sum(axis=1) == 0]\n",
    "\n",
    "Xy = Xy.loc[Xy[\"Furnishing\"] != \"Unknown\"]\n",
    "\n",
    "Xy = pd.get_dummies(Xy)\n",
    "Xy[\"Size Num\"].sort_values()\n",
    "Xy[\"Size Num\"].sort_values(ascending=False)\n",
    "Xy = Xy.loc[Xy[\"Size Num\"].between(250, 20000)]\n",
    "selectors = []\n",
    "for feature in [\"Bathrooms\", \"Car Parks\", \"Rooms Num\"]:\n",
    "    selectors.append(Xy[feature].between(\n",
    "        Xy[feature].quantile(0.001), \n",
    "        Xy[feature].quantile(0.999)))\n",
    "\n",
    "Xy = Xy.loc[(~pd.DataFrame(selectors).T).sum(axis=1) == 0]\n",
    "Xy, Xy_feature_selection = sklearn.model_selection.train_test_split(\n",
    "    Xy, test_size=0.25, random_state=101)\n",
    "cols = [\"Bathrooms\", \"Car Parks\", \"Rooms Num\", \"Size Num\"]\n",
    "Xy_feature_selection[cols] = sklearn.preprocessing.MinMaxScaler().fit_transform(\n",
    "    Xy_feature_selection[cols])\n",
    "Xy[cols] = sklearn.preprocessing.MinMaxScaler().fit_transform(Xy[cols])\n",
    "Xy = Xy.drop([\"Bathrooms\", \"Rooms Num\"], axis=1)\n",
    "Xy_feature_selection = Xy_feature_selection.drop([\"Bathrooms\", \"Rooms Num\"], axis=1)\n",
    "Xy = Xy.drop(\"Price per Room\", axis=1)\n",
    "Xy_feature_selection = Xy_feature_selection.drop(\"Price per Room\", axis=1)\n",
    "\n",
    "Xy_train, Xy_test = sklearn.model_selection.train_test_split(Xy, test_size=0.2, random_state=101)\n",
    "X_train = Xy_train.drop([\"Price\", \"Price per Area\"], axis=1)\n",
    "y_train = Xy_train[[\"Price\", \"Price per Area\"]]\n",
    "X_test = Xy_test.drop([\"Price\", \"Price per Area\"], axis=1)\n",
    "y_test = Xy_test[[\"Price\", \"Price per Area\"]]"
   ]
  },
  {
   "cell_type": "code",
   "execution_count": null,
   "metadata": {},
   "outputs": [],
   "source": [
    "# 上面放在一起方便放进系统"
   ]
  },
  {
   "cell_type": "code",
   "execution_count": 8,
   "metadata": {},
   "outputs": [
    {
     "data": {
      "text/plain": [
       "Index(['Car Parks', 'Size Num', 'Location_ampang', 'Location_ampang hilir',\n",
       "       'Location_bandar damai perdana', 'Location_bandar menjalara',\n",
       "       'Location_bangsar', 'Location_bangsar south', 'Location_batu caves',\n",
       "       'Location_brickfields', 'Location_bukit bintang',\n",
       "       'Location_bukit jalil', 'Location_bukit tunku (kenny hills)',\n",
       "       'Location_cheras', 'Location_city centre',\n",
       "       'Location_country heights damansara', 'Location_damansara heights',\n",
       "       'Location_desa pandan', 'Location_desa parkcity',\n",
       "       'Location_desa petaling', 'Location_dutamas', 'Location_jalan ipoh',\n",
       "       'Location_jalan klang lama (old klang road)', 'Location_jalan kuching',\n",
       "       'Location_jalan sultan ismail', 'Location_kepong', 'Location_keramat',\n",
       "       'Location_kl city', 'Location_kl eco city', 'Location_kl sentral',\n",
       "       'Location_klcc', 'Location_kuchai lama', 'Location_mont kiara',\n",
       "       'Location_oug', 'Location_pandan perdana', 'Location_pantai',\n",
       "       'Location_salak selatan', 'Location_segambut', 'Location_sentul',\n",
       "       'Location_seputeh', 'Location_setapak', 'Location_setiawangsa',\n",
       "       'Location_sri hartamas', 'Location_sri petaling',\n",
       "       'Location_sungai besi', 'Location_sunway spk', 'Location_taman desa',\n",
       "       'Location_taman melawati', 'Location_taman tun dr ismail',\n",
       "       'Location_titiwangsa', 'Location_wangsa maju',\n",
       "       'Furnishing_Fully Furnished', 'Furnishing_Partly Furnished',\n",
       "       'Furnishing_Unfurnished', 'Property Type Supergroup_Apartment',\n",
       "       'Property Type Supergroup_Bungalow',\n",
       "       'Property Type Supergroup_Condominium', 'Property Type Supergroup_Flat',\n",
       "       'Property Type Supergroup_Residential Land',\n",
       "       'Property Type Supergroup_Semi-detached House',\n",
       "       'Property Type Supergroup_Serviced Residence',\n",
       "       'Property Type Supergroup_Terrace/Link House',\n",
       "       'Property Type Supergroup_Townhouse'],\n",
       "      dtype='object')"
      ]
     },
     "execution_count": 8,
     "metadata": {},
     "output_type": "execute_result"
    }
   ],
   "source": [
    "X_train.columns"
   ]
  },
  {
   "cell_type": "code",
   "execution_count": 9,
   "metadata": {},
   "outputs": [
    {
     "data": {
      "text/plain": [
       "array([0.14285714, 0.        , 0.42857143, 0.28571429, 0.57142857,\n",
       "       1.        , 0.71428571, 0.85714286])"
      ]
     },
     "execution_count": 9,
     "metadata": {},
     "output_type": "execute_result"
    }
   ],
   "source": [
    "Xy[\"Car Parks\"].unique()"
   ]
  },
  {
   "cell_type": "code",
   "execution_count": 10,
   "metadata": {},
   "outputs": [],
   "source": [
    "from sklearn.linear_model import LinearRegression\n",
    "from sklearn.neighbors import KNeighborsRegressor\n",
    "from sklearn.linear_model import Lasso\n",
    "from sklearn.linear_model import Ridge\n",
    "from sklearn.neural_network import MLPRegressor\n",
    "from sklearn.tree import DecisionTreeRegressor\n",
    "from sklearn.tree import ExtraTreeRegressor\n",
    "from sklearn.ensemble import RandomForestRegressor"
   ]
  },
  {
   "cell_type": "code",
   "execution_count": 11,
   "metadata": {},
   "outputs": [
    {
     "name": "stdout",
     "output_type": "stream",
     "text": [
      "[[7.50000000e+05 4.50992183e+02]\n",
      " [7.40000000e+05 6.33561644e+02]\n",
      " [4.05000000e+05 2.79310345e+02]\n",
      " ...\n",
      " [5.92500000e+05 4.47845805e+02]\n",
      " [2.15000000e+06 6.82106599e+02]\n",
      " [1.30642857e+06 1.08869048e+03]]\n"
     ]
    }
   ],
   "source": [
    "model = ExtraTreeRegressor()\n",
    "model.fit(X_train, y_train)\n",
    "y_pred = model.predict(X_test)\n",
    "print(y_pred)"
   ]
  },
  {
   "cell_type": "code",
   "execution_count": 12,
   "metadata": {},
   "outputs": [],
   "source": [
    "# for name,model in zip(models_str,models):\n",
    "#     print('Start to train the Model: '+name)\n",
    "#     model=model   #creating model\n",
    "#     model.fit(X_train,y_train)\n",
    "    \n",
    "#     y_pred=model.predict(X_test)  \n",
    "#     score=model.score(X_test,y_test)\n",
    "#     score_.append(str(score)[:5])\n",
    "#     scores.append(round(score, 2))\n",
    "#     print(name +' Score: '+str(score))\n",
    "#     print('-----------------------------------------------------------------')"
   ]
  },
  {
   "cell_type": "code",
   "execution_count": null,
   "metadata": {},
   "outputs": [],
   "source": []
  }
 ],
 "metadata": {
  "kernelspec": {
   "display_name": "Python 3",
   "language": "python",
   "name": "python3"
  },
  "language_info": {
   "codemirror_mode": {
    "name": "ipython",
    "version": 3
   },
   "file_extension": ".py",
   "mimetype": "text/x-python",
   "name": "python",
   "nbconvert_exporter": "python",
   "pygments_lexer": "ipython3",
   "version": "3.7.6"
  }
 },
 "nbformat": 4,
 "nbformat_minor": 4
}
