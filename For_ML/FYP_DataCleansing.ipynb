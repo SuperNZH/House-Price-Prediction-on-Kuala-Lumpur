{
 "cells": [
  {
   "cell_type": "code",
   "execution_count": 2,
   "metadata": {},
   "outputs": [],
   "source": [
    "import numpy as np\n",
    "np.random.seed(101)\n",
    "import pandas as pd\n",
    "import seaborn as sns\n",
    "%matplotlib inline\n",
    "import matplotlib.pyplot as plt\n",
    "import sklearn.model_selection\n",
    "import sklearn.linear_model\n",
    "import sklearn.feature_selection\n",
    "import sklearn.preprocessing\n",
    "import sklearn.metrics\n"
   ]
  },
  {
   "cell_type": "code",
   "execution_count": 3,
   "metadata": {},
   "outputs": [],
   "source": [
    "properties = pd.read_csv(\"dataset/data_kaggle.csv\")"
   ]
  },
  {
   "cell_type": "code",
   "execution_count": 4,
   "metadata": {},
   "outputs": [
    {
     "data": {
      "text/plain": [
       "pandas.core.frame.DataFrame"
      ]
     },
     "execution_count": 4,
     "metadata": {},
     "output_type": "execute_result"
    }
   ],
   "source": []
  },
  {
   "cell_type": "code",
   "execution_count": 3,
   "metadata": {},
   "outputs": [
    {
     "data": {
      "text/html": [
       "<div>\n",
       "<style scoped>\n",
       "    .dataframe tbody tr th:only-of-type {\n",
       "        vertical-align: middle;\n",
       "    }\n",
       "\n",
       "    .dataframe tbody tr th {\n",
       "        vertical-align: top;\n",
       "    }\n",
       "\n",
       "    .dataframe thead th {\n",
       "        text-align: right;\n",
       "    }\n",
       "</style>\n",
       "<table border=\"1\" class=\"dataframe\">\n",
       "  <thead>\n",
       "    <tr style=\"text-align: right;\">\n",
       "      <th></th>\n",
       "      <th>Location</th>\n",
       "      <th>Price</th>\n",
       "      <th>Rooms</th>\n",
       "      <th>Bathrooms</th>\n",
       "      <th>Car Parks</th>\n",
       "      <th>Property Type</th>\n",
       "      <th>Size</th>\n",
       "      <th>Furnishing</th>\n",
       "    </tr>\n",
       "  </thead>\n",
       "  <tbody>\n",
       "    <tr>\n",
       "      <th>0</th>\n",
       "      <td>KLCC, Kuala Lumpur</td>\n",
       "      <td>RM 1,250,000</td>\n",
       "      <td>2+1</td>\n",
       "      <td>3.0</td>\n",
       "      <td>2.0</td>\n",
       "      <td>Serviced Residence</td>\n",
       "      <td>Built-up : 1,335 sq. ft.</td>\n",
       "      <td>Fully Furnished</td>\n",
       "    </tr>\n",
       "    <tr>\n",
       "      <th>1</th>\n",
       "      <td>Damansara Heights, Kuala Lumpur</td>\n",
       "      <td>RM 6,800,000</td>\n",
       "      <td>6</td>\n",
       "      <td>7.0</td>\n",
       "      <td>NaN</td>\n",
       "      <td>Bungalow</td>\n",
       "      <td>Land area : 6900 sq. ft.</td>\n",
       "      <td>Partly Furnished</td>\n",
       "    </tr>\n",
       "    <tr>\n",
       "      <th>2</th>\n",
       "      <td>Dutamas, Kuala Lumpur</td>\n",
       "      <td>RM 1,030,000</td>\n",
       "      <td>3</td>\n",
       "      <td>4.0</td>\n",
       "      <td>2.0</td>\n",
       "      <td>Condominium (Corner)</td>\n",
       "      <td>Built-up : 1,875 sq. ft.</td>\n",
       "      <td>Partly Furnished</td>\n",
       "    </tr>\n",
       "    <tr>\n",
       "      <th>3</th>\n",
       "      <td>Cheras, Kuala Lumpur</td>\n",
       "      <td>NaN</td>\n",
       "      <td>NaN</td>\n",
       "      <td>NaN</td>\n",
       "      <td>NaN</td>\n",
       "      <td>NaN</td>\n",
       "      <td>NaN</td>\n",
       "      <td>NaN</td>\n",
       "    </tr>\n",
       "    <tr>\n",
       "      <th>4</th>\n",
       "      <td>Bukit Jalil, Kuala Lumpur</td>\n",
       "      <td>RM 900,000</td>\n",
       "      <td>4+1</td>\n",
       "      <td>3.0</td>\n",
       "      <td>2.0</td>\n",
       "      <td>Condominium (Corner)</td>\n",
       "      <td>Built-up : 1,513 sq. ft.</td>\n",
       "      <td>Partly Furnished</td>\n",
       "    </tr>\n",
       "  </tbody>\n",
       "</table>\n",
       "</div>"
      ],
      "text/plain": [
       "                          Location         Price Rooms  Bathrooms  Car Parks  \\\n",
       "0               KLCC, Kuala Lumpur  RM 1,250,000   2+1        3.0        2.0   \n",
       "1  Damansara Heights, Kuala Lumpur  RM 6,800,000     6        7.0        NaN   \n",
       "2            Dutamas, Kuala Lumpur  RM 1,030,000     3        4.0        2.0   \n",
       "3             Cheras, Kuala Lumpur           NaN   NaN        NaN        NaN   \n",
       "4        Bukit Jalil, Kuala Lumpur    RM 900,000   4+1        3.0        2.0   \n",
       "\n",
       "          Property Type                      Size        Furnishing  \n",
       "0    Serviced Residence  Built-up : 1,335 sq. ft.   Fully Furnished  \n",
       "1              Bungalow  Land area : 6900 sq. ft.  Partly Furnished  \n",
       "2  Condominium (Corner)  Built-up : 1,875 sq. ft.  Partly Furnished  \n",
       "3                   NaN                       NaN               NaN  \n",
       "4  Condominium (Corner)  Built-up : 1,513 sq. ft.  Partly Furnished  "
      ]
     },
     "execution_count": 3,
     "metadata": {},
     "output_type": "execute_result"
    }
   ],
   "source": [
    "properties.head()"
   ]
  },
  {
   "cell_type": "code",
   "execution_count": 4,
   "metadata": {},
   "outputs": [],
   "source": [
    "# Price"
   ]
  },
  {
   "cell_type": "code",
   "execution_count": 5,
   "metadata": {},
   "outputs": [],
   "source": [
    "# remove all entries with missing prices(by isna())\n",
    "properties = properties.loc[~properties[\"Price\"].isna()]"
   ]
  },
  {
   "cell_type": "code",
   "execution_count": 6,
   "metadata": {},
   "outputs": [
    {
     "name": "stdout",
     "output_type": "stream",
     "text": [
      "There are 0 entries in the wrong format.\n"
     ]
    }
   ],
   "source": [
    "# make sure that every remaining entries \n",
    "# matches the same format of \"RM\" followed by commas and digits.\n",
    "incorrect_entries = np.sum(~properties[\"Price\"].str.match(r\"RM [0-9,]*$\"))\n",
    "print(\"There are {} entries in the wrong format.\".format(incorrect_entries))"
   ]
  },
  {
   "cell_type": "code",
   "execution_count": 7,
   "metadata": {},
   "outputs": [],
   "source": [
    "# Strip the price of the \"RM\" as well as commas\n",
    "def strip_price(text):\n",
    "    text = text.replace(\"RM\", \"\")\n",
    "    text = text.replace(\",\", \"\")\n",
    "    text = text.strip()\n",
    "    return int(text)\n",
    "    \n",
    "properties[\"Price\"] = properties[\"Price\"].apply(strip_price)"
   ]
  },
  {
   "cell_type": "code",
   "execution_count": 8,
   "metadata": {},
   "outputs": [],
   "source": [
    "# Location"
   ]
  },
  {
   "cell_type": "code",
   "execution_count": 9,
   "metadata": {},
   "outputs": [],
   "source": [
    "# make everything lower case for location\n",
    "# Additionally, remove the city name because we only focus on Kuala lumpur\n",
    "properties[\"Location\"] = properties[\"Location\"].str.lower()\n",
    "properties[\"Location\"] = properties[\"Location\"].str.replace(r\", kuala lumpur$\", \"\")"
   ]
  },
  {
   "cell_type": "code",
   "execution_count": 10,
   "metadata": {},
   "outputs": [
    {
     "data": {
      "text/plain": [
       "['adiva desa parkcity',\n",
       " 'alam damai',\n",
       " 'ampang',\n",
       " 'ampang hilir',\n",
       " 'bandar damai perdana',\n",
       " 'bandar menjalara',\n",
       " 'bandar sri damansara',\n",
       " 'bandar tasik selatan',\n",
       " 'bangsar',\n",
       " 'bangsar south',\n",
       " 'batu caves',\n",
       " 'brickfields',\n",
       " 'bukit  persekutuan',\n",
       " 'bukit bintang',\n",
       " 'bukit damansara',\n",
       " 'bukit jalil',\n",
       " 'bukit kiara',\n",
       " 'bukit ledang',\n",
       " 'bukit tunku (kenny hills)',\n",
       " 'canary residence',\n",
       " 'casa rimba',\n",
       " 'chan sow lin',\n",
       " 'cheras',\n",
       " 'city centre',\n",
       " 'country heights damansara',\n",
       " 'cyberjaya',\n",
       " 'damansara',\n",
       " 'damansara heights',\n",
       " 'desa pandan',\n",
       " 'desa parkcity',\n",
       " 'desa petaling',\n",
       " 'duta nusantara',\n",
       " 'dutamas',\n",
       " 'federal hill',\n",
       " 'gombak',\n",
       " 'gurney',\n",
       " 'happy garden',\n",
       " 'jalan ipoh',\n",
       " 'jalan klang lama (old klang road)',\n",
       " 'jalan kuching',\n",
       " 'jalan sultan ismail',\n",
       " 'jalan u-thant',\n",
       " 'jinjang',\n",
       " 'kemensah',\n",
       " 'kepong',\n",
       " 'keramat',\n",
       " 'kl city',\n",
       " 'kl eco city',\n",
       " 'kl sentral',\n",
       " 'klcc',\n",
       " 'kota damansara',\n",
       " 'kuala lumpur',\n",
       " 'kuchai lama',\n",
       " 'landed sd',\n",
       " 'mid valley city',\n",
       " 'mont kiara',\n",
       " 'off gasing indah,',\n",
       " 'other',\n",
       " 'oug',\n",
       " 'pandan indah',\n",
       " 'pandan jaya',\n",
       " 'pandan perdana',\n",
       " 'pantai',\n",
       " 'petaling jaya',\n",
       " 'puchong',\n",
       " 'rawang',\n",
       " 'salak selatan',\n",
       " 'santuari park pantai',\n",
       " 'segambut',\n",
       " 'semarak',\n",
       " 'sentul',\n",
       " 'seputeh',\n",
       " 'seri kembangan',\n",
       " 'setapak',\n",
       " 'setiawangsa',\n",
       " 'singapore',\n",
       " 'solaris dutamas',\n",
       " 'sri damansara',\n",
       " 'sri hartamas',\n",
       " 'sri kembangan',\n",
       " 'sri petaling',\n",
       " 'sungai besi',\n",
       " 'sungai long sl8',\n",
       " 'sungai penchala',\n",
       " 'sunway spk',\n",
       " 'taman cheras perdana',\n",
       " 'taman connaught',\n",
       " 'taman desa',\n",
       " 'taman duta',\n",
       " 'taman ibukota',\n",
       " 'taman melati',\n",
       " 'taman melawati',\n",
       " 'taman sri keramat',\n",
       " 'taman tar',\n",
       " 'taman tun dr ismail',\n",
       " 'taman wangsa permai',\n",
       " 'taman yarl',\n",
       " 'taman yarl oug',\n",
       " 'taman yarl, uog',\n",
       " 'taming jaya',\n",
       " 'the mines resort',\n",
       " 'titiwangsa',\n",
       " 'u-thant',\n",
       " 'ukay heights',\n",
       " 'wangsa maju',\n",
       " 'wangsa melawati']"
      ]
     },
     "execution_count": 10,
     "metadata": {},
     "output_type": "execute_result"
    }
   ],
   "source": [
    "# display the unique location values to check is it reasonably standardized\n",
    "sorted(properties[\"Location\"].unique())"
   ]
  },
  {
   "cell_type": "code",
   "execution_count": 11,
   "metadata": {},
   "outputs": [
    {
     "data": {
      "image/png": "[encoded data removed]",
      "text/plain": [
       "<Figure size 432x288 with 1 Axes>"
      ]
     },
     "metadata": {
      "needs_background": "light"
     },
     "output_type": "display_data"
    }
   ],
   "source": [
    "# remove the frequency of locations with fewer than 100\n",
    "properties[\"Location\"].value_counts().plot(logy=True);"
   ]
  },
  {
   "cell_type": "code",
   "execution_count": 12,
   "metadata": {},
   "outputs": [],
   "source": [
    "# remove\n",
    "significant_locations = properties[\"Location\"].value_counts()[\n",
    "    properties[\"Location\"].value_counts() >= 100].index\n",
    "\n",
    "properties = properties.loc[np.isin(properties[\"Location\"], significant_locations)]"
   ]
  },
  {
   "cell_type": "code",
   "execution_count": 13,
   "metadata": {},
   "outputs": [
    {
     "data": {
      "text/plain": [
       "['ampang',\n",
       " 'ampang hilir',\n",
       " 'bandar damai perdana',\n",
       " 'bandar menjalara',\n",
       " 'bangsar',\n",
       " 'bangsar south',\n",
       " 'batu caves',\n",
       " 'brickfields',\n",
       " 'bukit bintang',\n",
       " 'bukit jalil',\n",
       " 'bukit tunku (kenny hills)',\n",
       " 'cheras',\n",
       " 'city centre',\n",
       " 'country heights damansara',\n",
       " 'damansara heights',\n",
       " 'desa pandan',\n",
       " 'desa parkcity',\n",
       " 'desa petaling',\n",
       " 'dutamas',\n",
       " 'jalan ipoh',\n",
       " 'jalan klang lama (old klang road)',\n",
       " 'jalan kuching',\n",
       " 'jalan sultan ismail',\n",
       " 'kepong',\n",
       " 'keramat',\n",
       " 'kl city',\n",
       " 'kl eco city',\n",
       " 'kl sentral',\n",
       " 'klcc',\n",
       " 'kuchai lama',\n",
       " 'mont kiara',\n",
       " 'oug',\n",
       " 'pandan perdana',\n",
       " 'pantai',\n",
       " 'salak selatan',\n",
       " 'segambut',\n",
       " 'sentul',\n",
       " 'seputeh',\n",
       " 'setapak',\n",
       " 'setiawangsa',\n",
       " 'sri hartamas',\n",
       " 'sri petaling',\n",
       " 'sungai besi',\n",
       " 'sunway spk',\n",
       " 'taman desa',\n",
       " 'taman melawati',\n",
       " 'taman tun dr ismail',\n",
       " 'titiwangsa',\n",
       " 'wangsa maju']"
      ]
     },
     "execution_count": 13,
     "metadata": {},
     "output_type": "execute_result"
    }
   ],
   "source": [
    "# A new look after removing\n",
    "sorted(properties[\"Location\"].unique())"
   ]
  },
  {
   "cell_type": "code",
   "execution_count": 14,
   "metadata": {},
   "outputs": [],
   "source": [
    "# Number of Rooms"
   ]
  },
  {
   "cell_type": "code",
   "execution_count": 15,
   "metadata": {},
   "outputs": [
    {
     "data": {
      "text/plain": [
       "['1',\n",
       " '1+1',\n",
       " '1+2',\n",
       " '10',\n",
       " '10+',\n",
       " '10+1',\n",
       " '11',\n",
       " '11+1',\n",
       " '12',\n",
       " '12+',\n",
       " '13',\n",
       " '13+',\n",
       " '13+1',\n",
       " '14',\n",
       " '15+',\n",
       " '16',\n",
       " '18',\n",
       " '2',\n",
       " '2+1',\n",
       " '2+2',\n",
       " '20 Above',\n",
       " '3',\n",
       " '3+1',\n",
       " '3+2',\n",
       " '4',\n",
       " '4+1',\n",
       " '4+2',\n",
       " '5',\n",
       " '5+1',\n",
       " '5+2',\n",
       " '6',\n",
       " '6+',\n",
       " '6+1',\n",
       " '7',\n",
       " '7+',\n",
       " '7+1',\n",
       " '8',\n",
       " '8+',\n",
       " '8+1',\n",
       " '9',\n",
       " '9+',\n",
       " '9+1',\n",
       " 'Studio',\n",
       " 'nan']"
      ]
     },
     "execution_count": 15,
     "metadata": {},
     "output_type": "execute_result"
    }
   ],
   "source": [
    "# a Look of Rooms\n",
    "sorted(properties[\"Rooms\"].unique().astype(str))"
   ]
  },
  {
   "cell_type": "code",
   "execution_count": 16,
   "metadata": {},
   "outputs": [],
   "source": [
    "import re\n",
    "\n",
    "def convert_room_num(rooms):\n",
    "    try:\n",
    "        if rooms.endswith(\"+\"):\n",
    "            return int(rooms[:-1])\n",
    "        if re.search(\"[0-9]+\\+[0-9]+\", rooms) is not None:\n",
    "            tmp = rooms.split(\"+\")\n",
    "            return int(tmp[0]) + int(tmp[1])\n",
    "        if rooms == \"20 Above\":\n",
    "            return 20\n",
    "        if rooms == \"Studio\":\n",
    "            return 1\n",
    "        return int(rooms)\n",
    "    except AttributeError:\n",
    "        return rooms"
   ]
  },
  {
   "cell_type": "code",
   "execution_count": 17,
   "metadata": {},
   "outputs": [
    {
     "data": {
      "text/plain": [
       "3.0     15938\n",
       "4.0     13027\n",
       "5.0      6827\n",
       "2.0      6547\n",
       "6.0      3747\n",
       "1.0      3191\n",
       "7.0      1564\n",
       "NaN      1560\n",
       "8.0       361\n",
       "9.0       102\n",
       "10.0       45\n",
       "12.0       14\n",
       "11.0        8\n",
       "20.0        7\n",
       "13.0        4\n",
       "14.0        3\n",
       "16.0        2\n",
       "18.0        1\n",
       "15.0        1\n",
       "Name: Rooms Num, dtype: int64"
      ]
     },
     "execution_count": 17,
     "metadata": {},
     "output_type": "execute_result"
    }
   ],
   "source": [
    "properties[\"Rooms Num\"] = properties[\"Rooms\"].apply(convert_room_num)\n",
    "properties[\"Rooms Num\"].value_counts(dropna=False)"
   ]
  },
  {
   "cell_type": "code",
   "execution_count": 18,
   "metadata": {},
   "outputs": [],
   "source": [
    "# Property Type"
   ]
  },
  {
   "cell_type": "code",
   "execution_count": 19,
   "metadata": {},
   "outputs": [
    {
     "data": {
      "text/plain": [
       "Condominium                               11447\n",
       "Serviced Residence                         7176\n",
       "Condominium (Corner)                       5687\n",
       "Condominium (Intermediate)                 5113\n",
       "Serviced Residence (Intermediate)          3255\n",
       "                                          ...  \n",
       "Cluster House                                 1\n",
       "3-sty Terrace/Link House (Triplex)            1\n",
       "2.5-sty Terrace/Link House (Penthouse)        1\n",
       "Apartment (Triplex)                           1\n",
       "3-sty Terrace/Link House (Duplex)             1\n",
       "Name: Property Type, Length: 95, dtype: int64"
      ]
     },
     "execution_count": 19,
     "metadata": {},
     "output_type": "execute_result"
    }
   ],
   "source": [
    "# A look of property type\n",
    "properties[\"Property Type\"].value_counts()"
   ]
  },
  {
   "cell_type": "code",
   "execution_count": 20,
   "metadata": {},
   "outputs": [],
   "source": [
    "# Simplify the property type\n",
    "def simplify_property_type(prop_type):\n",
    "    super_types = [\n",
    "        \"Terrace/Link House\", \"Serviced Residence\", \"Condominium\", \n",
    "        \"Semi-detached House\", \"Bungalow\", \"Apartment\", \"Townhouse\", \n",
    "        \"Flat\", \"Residential Land\", \"Cluster House\"]\n",
    "    for super_type in super_types:\n",
    "        if re.search(super_type, prop_type, flags=re.IGNORECASE) is not None:\n",
    "            return super_type\n",
    "    \n",
    "    return prop_type\n",
    "\n",
    "properties[\"Property Type Supergroup\"] = properties[\"Property Type\"].apply(simplify_property_type)"
   ]
  },
  {
   "cell_type": "code",
   "execution_count": 21,
   "metadata": {},
   "outputs": [
    {
     "data": {
      "text/plain": [
       "Condominium            23149\n",
       "Serviced Residence     13399\n",
       "Terrace/Link House      7567\n",
       "Bungalow                3598\n",
       "Semi-detached House     2102\n",
       "Apartment               1621\n",
       "Residential Land         669\n",
       "Townhouse                508\n",
       "Flat                     330\n",
       "Cluster House              6\n",
       "Name: Property Type Supergroup, dtype: int64"
      ]
     },
     "execution_count": 21,
     "metadata": {},
     "output_type": "execute_result"
    }
   ],
   "source": [
    "# These supergroup is more uniform\n",
    "properties[\"Property Type Supergroup\"].value_counts(dropna=False)"
   ]
  },
  {
   "cell_type": "code",
   "execution_count": 22,
   "metadata": {},
   "outputs": [],
   "source": [
    "# Size"
   ]
  },
  {
   "cell_type": "code",
   "execution_count": 23,
   "metadata": {},
   "outputs": [
    {
     "data": {
      "text/html": [
       "<div>\n",
       "<style scoped>\n",
       "    .dataframe tbody tr th:only-of-type {\n",
       "        vertical-align: middle;\n",
       "    }\n",
       "\n",
       "    .dataframe tbody tr th {\n",
       "        vertical-align: top;\n",
       "    }\n",
       "\n",
       "    .dataframe thead th {\n",
       "        text-align: right;\n",
       "    }\n",
       "</style>\n",
       "<table border=\"1\" class=\"dataframe\">\n",
       "  <thead>\n",
       "    <tr style=\"text-align: right;\">\n",
       "      <th></th>\n",
       "      <th>Size</th>\n",
       "    </tr>\n",
       "  </thead>\n",
       "  <tbody>\n",
       "    <tr>\n",
       "      <th>44370</th>\n",
       "      <td>Built-up : 9,000 sq. ft.</td>\n",
       "    </tr>\n",
       "    <tr>\n",
       "      <th>24474</th>\n",
       "      <td>Built-up : 2,002 sq. ft.</td>\n",
       "    </tr>\n",
       "    <tr>\n",
       "      <th>38244</th>\n",
       "      <td>Land area : 3046 sq. ft.</td>\n",
       "    </tr>\n",
       "    <tr>\n",
       "      <th>11381</th>\n",
       "      <td>Built-up : 522 sq. ft.</td>\n",
       "    </tr>\n",
       "    <tr>\n",
       "      <th>36948</th>\n",
       "      <td>Land area : 1659 sq. ft.</td>\n",
       "    </tr>\n",
       "    <tr>\n",
       "      <th>45748</th>\n",
       "      <td>Built-up : 950 sq. ft.</td>\n",
       "    </tr>\n",
       "    <tr>\n",
       "      <th>48529</th>\n",
       "      <td>Land area : 6000 sq. ft.</td>\n",
       "    </tr>\n",
       "    <tr>\n",
       "      <th>36563</th>\n",
       "      <td>Built-up : 729 sq. ft.</td>\n",
       "    </tr>\n",
       "    <tr>\n",
       "      <th>36203</th>\n",
       "      <td>Built-up : 3,983 sq. ft.</td>\n",
       "    </tr>\n",
       "    <tr>\n",
       "      <th>16770</th>\n",
       "      <td>Built-up : 900 sq. ft.</td>\n",
       "    </tr>\n",
       "    <tr>\n",
       "      <th>9866</th>\n",
       "      <td>Built-up : 750 sq. ft.</td>\n",
       "    </tr>\n",
       "    <tr>\n",
       "      <th>48168</th>\n",
       "      <td>Land area : 10689 sq. ft.</td>\n",
       "    </tr>\n",
       "    <tr>\n",
       "      <th>44076</th>\n",
       "      <td>Land area : 22000 sq. ft.</td>\n",
       "    </tr>\n",
       "    <tr>\n",
       "      <th>29281</th>\n",
       "      <td>Built-up : 850 sq. ft.</td>\n",
       "    </tr>\n",
       "    <tr>\n",
       "      <th>944</th>\n",
       "      <td>Built-up : 4,450 sq. ft.</td>\n",
       "    </tr>\n",
       "    <tr>\n",
       "      <th>50095</th>\n",
       "      <td>Built-up : 3,146 sq. ft.</td>\n",
       "    </tr>\n",
       "    <tr>\n",
       "      <th>31355</th>\n",
       "      <td>Built-up : 1,012 sq. ft.</td>\n",
       "    </tr>\n",
       "    <tr>\n",
       "      <th>53711</th>\n",
       "      <td>Land area : 732 sq. ft.</td>\n",
       "    </tr>\n",
       "    <tr>\n",
       "      <th>5022</th>\n",
       "      <td>Built-up : 1,091 sq. ft.</td>\n",
       "    </tr>\n",
       "    <tr>\n",
       "      <th>40956</th>\n",
       "      <td>Built-up : 2,626 sq. ft.</td>\n",
       "    </tr>\n",
       "    <tr>\n",
       "      <th>3961</th>\n",
       "      <td>Land area : 5440 sq. ft.</td>\n",
       "    </tr>\n",
       "    <tr>\n",
       "      <th>29163</th>\n",
       "      <td>Land area : 18212.54 sq. ft.</td>\n",
       "    </tr>\n",
       "    <tr>\n",
       "      <th>21204</th>\n",
       "      <td>Built-up : 904 sq. ft.</td>\n",
       "    </tr>\n",
       "    <tr>\n",
       "      <th>44105</th>\n",
       "      <td>Built-up : 1,378 sq. ft.</td>\n",
       "    </tr>\n",
       "    <tr>\n",
       "      <th>15861</th>\n",
       "      <td>Land area : 1650 sq. ft.</td>\n",
       "    </tr>\n",
       "  </tbody>\n",
       "</table>\n",
       "</div>"
      ],
      "text/plain": [
       "                               Size\n",
       "44370      Built-up : 9,000 sq. ft.\n",
       "24474      Built-up : 2,002 sq. ft.\n",
       "38244      Land area : 3046 sq. ft.\n",
       "11381        Built-up : 522 sq. ft.\n",
       "36948      Land area : 1659 sq. ft.\n",
       "45748        Built-up : 950 sq. ft.\n",
       "48529      Land area : 6000 sq. ft.\n",
       "36563        Built-up : 729 sq. ft.\n",
       "36203      Built-up : 3,983 sq. ft.\n",
       "16770        Built-up : 900 sq. ft.\n",
       "9866         Built-up : 750 sq. ft.\n",
       "48168     Land area : 10689 sq. ft.\n",
       "44076     Land area : 22000 sq. ft.\n",
       "29281        Built-up : 850 sq. ft.\n",
       "944        Built-up : 4,450 sq. ft.\n",
       "50095      Built-up : 3,146 sq. ft.\n",
       "31355      Built-up : 1,012 sq. ft.\n",
       "53711       Land area : 732 sq. ft.\n",
       "5022       Built-up : 1,091 sq. ft.\n",
       "40956      Built-up : 2,626 sq. ft.\n",
       "3961       Land area : 5440 sq. ft.\n",
       "29163  Land area : 18212.54 sq. ft.\n",
       "21204        Built-up : 904 sq. ft.\n",
       "44105      Built-up : 1,378 sq. ft.\n",
       "15861      Land area : 1650 sq. ft."
      ]
     },
     "execution_count": 23,
     "metadata": {},
     "output_type": "execute_result"
    }
   ],
   "source": [
    "properties[[\"Size\"]].sample(25)"
   ]
  },
  {
   "cell_type": "code",
   "execution_count": 24,
   "metadata": {},
   "outputs": [],
   "source": [
    "# create two new column that indicate whether this is built-up or land area \n",
    "# and store the actual square footage.\n",
    "def split_size(val, index=0):\n",
    "    try:\n",
    "        return val.split(\":\")[index].strip()\n",
    "    except AttributeError:\n",
    "        return val\n",
    "    \n",
    "properties[\"Size Type\"] = properties[\"Size\"].apply(split_size, index=0)\n",
    "properties[\"Size Num\"] = properties[\"Size\"].apply(split_size, index=1)"
   ]
  },
  {
   "cell_type": "code",
   "execution_count": 25,
   "metadata": {},
   "outputs": [
    {
     "data": {
      "text/plain": [
       "Built-up     37493\n",
       "Land area    14453\n",
       "NaN           1003\n",
       "Name: Size Type, dtype: int64"
      ]
     },
     "execution_count": 25,
     "metadata": {},
     "output_type": "execute_result"
    }
   ],
   "source": [
    "properties[\"Size Type\"].value_counts(dropna=False)"
   ]
  },
  {
   "cell_type": "code",
   "execution_count": 26,
   "metadata": {},
   "outputs": [],
   "source": [
    "def convert_size_num(size):\n",
    "    try:\n",
    "        if re.search(r\"sq\\.*\\s*ft\\.*\", size) is None:\n",
    "            return None\n",
    "    \n",
    "        size = size.replace(\",\", \"\")\n",
    "        size = size.replace(\"'\", \"\")\n",
    "        size = size.replace(\"sq. ft.\", \"\")\n",
    "        size = size.replace(\"sf\", \"\")\n",
    "        size = size.strip()\n",
    "        size = size.lower()\n",
    "        \n",
    "        add_mult_match = re.search(r\"(\\d+)\\s*\\+\\s*(\\d+)\\s*(?:x|\\*)\\s*(\\d+)\", size)\n",
    "        if add_mult_match is not None:\n",
    "            return int(add_mult_match.groups()[0]) + (\n",
    "                int(add_mult_match.groups()[1]) * \n",
    "                int(add_mult_match.groups()[2]))\n",
    "        \n",
    "        mult_match = re.search(r\"(\\d+)\\s*(?:x|\\*)\\s*(\\d+)\", size)\n",
    "        if mult_match is not None:\n",
    "            return int(mult_match.groups()[0]) * int(mult_match.groups()[1])\n",
    "        \n",
    "        return int(size)\n",
    "    except:\n",
    "        return None\n",
    "        \n",
    "properties[\"Size Num\"] = properties[\"Size Num\"].apply(convert_size_num)"
   ]
  },
  {
   "cell_type": "code",
   "execution_count": 27,
   "metadata": {},
   "outputs": [
    {
     "name": "stdout",
     "output_type": "stream",
     "text": [
      "Properties with missing raw size data: 1003\n",
      "Properties with missing size type data: 1003\n",
      "Properties with missing size num data: 1313\n"
     ]
    }
   ],
   "source": [
    "# Cleaning the property sizes introduced \n",
    "# only a small number of additional missing values.\n",
    "print(\"Properties with missing raw size data: {}\".format(properties[\"Size\"].isna().sum()))\n",
    "print(\"Properties with missing size type data: {}\".format(properties[\"Size Type\"].isna().sum()))\n",
    "print(\"Properties with missing size num data: {}\".format(properties[\"Size Num\"].isna().sum()))"
   ]
  },
  {
   "cell_type": "code",
   "execution_count": 28,
   "metadata": {},
   "outputs": [],
   "source": [
    "properties.loc[properties[\"Size Num\"].isna(), \"Size Type\"] = None"
   ]
  },
  {
   "cell_type": "code",
   "execution_count": 29,
   "metadata": {},
   "outputs": [
    {
     "data": {
      "text/plain": [
       "Built-up     37455\n",
       "Land area    14181\n",
       "NaN           1313\n",
       "Name: Size Type, dtype: int64"
      ]
     },
     "execution_count": 29,
     "metadata": {},
     "output_type": "execute_result"
    }
   ],
   "source": [
    "properties.loc[:, \"Size Type\"].value_counts(dropna=False)"
   ]
  },
  {
   "cell_type": "code",
   "execution_count": 30,
   "metadata": {},
   "outputs": [],
   "source": [
    "# Furnishing"
   ]
  },
  {
   "cell_type": "code",
   "execution_count": 31,
   "metadata": {},
   "outputs": [
    {
     "data": {
      "text/plain": [
       "Partly Furnished    26222\n",
       "Fully Furnished     13846\n",
       "NaN                  6687\n",
       "Unfurnished          5611\n",
       "Unknown               583\n",
       "Name: Furnishing, dtype: int64"
      ]
     },
     "execution_count": 31,
     "metadata": {},
     "output_type": "execute_result"
    }
   ],
   "source": [
    "# seems no need to do cleansing\n",
    "properties[\"Furnishing\"].value_counts(dropna=False)"
   ]
  },
  {
   "cell_type": "code",
   "execution_count": 32,
   "metadata": {},
   "outputs": [],
   "source": [
    "# Other columns"
   ]
  },
  {
   "cell_type": "code",
   "execution_count": 33,
   "metadata": {},
   "outputs": [
    {
     "data": {
      "text/plain": [
       "2.0     21163\n",
       "3.0      9331\n",
       "4.0      6522\n",
       "5.0      4717\n",
       "1.0      4482\n",
       "6.0      3172\n",
       "NaN      1866\n",
       "7.0      1031\n",
       "8.0       402\n",
       "9.0       142\n",
       "10.0       70\n",
       "12.0       14\n",
       "11.0       11\n",
       "20.0       10\n",
       "15.0        6\n",
       "13.0        5\n",
       "14.0        4\n",
       "16.0        1\n",
       "Name: Bathrooms, dtype: int64"
      ]
     },
     "execution_count": 33,
     "metadata": {},
     "output_type": "execute_result"
    }
   ],
   "source": [
    "properties[\"Bathrooms\"].value_counts(dropna=False)"
   ]
  },
  {
   "cell_type": "code",
   "execution_count": 34,
   "metadata": {},
   "outputs": [
    {
     "data": {
      "text/plain": [
       "NaN     17042\n",
       "2.0     15174\n",
       "1.0     13622\n",
       "3.0      3798\n",
       "4.0      1913\n",
       "6.0       623\n",
       "5.0       501\n",
       "8.0        91\n",
       "10.0       76\n",
       "7.0        62\n",
       "15.0        7\n",
       "12.0        7\n",
       "13.0        7\n",
       "20.0        4\n",
       "11.0        4\n",
       "9.0         4\n",
       "30.0        4\n",
       "28.0        4\n",
       "16.0        2\n",
       "17.0        2\n",
       "18.0        1\n",
       "24.0        1\n",
       "Name: Car Parks, dtype: int64"
      ]
     },
     "execution_count": 34,
     "metadata": {},
     "output_type": "execute_result"
    }
   ],
   "source": [
    "properties[\"Car Parks\"].value_counts(dropna=False)"
   ]
  },
  {
   "cell_type": "code",
   "execution_count": 35,
   "metadata": {},
   "outputs": [],
   "source": [
    "# introduce the price per area and price per rooms as features\n",
    "properties[\"Price per Area\"] = properties[\"Price\"] / properties[\"Size Num\"]\n",
    "properties[\"Price per Room\"] = properties[\"Price\"] / properties[\"Rooms Num\"]"
   ]
  },
  {
   "cell_type": "code",
   "execution_count": 36,
   "metadata": {},
   "outputs": [],
   "source": [
    "# Save Preprocessed Data\n",
    "properties.to_csv(\"dataset/PropertiesAfterPreprocessed.csv\")"
   ]
  },
  {
   "cell_type": "code",
   "execution_count": null,
   "metadata": {},
   "outputs": [],
   "source": [
    "\n"
   ]
  }
 ],
 "metadata": {
  "kernelspec": {
   "display_name": "Python 3",
   "language": "python",
   "name": "python3"
  },
  "language_info": {
   "codemirror_mode": {
    "name": "ipython",
    "version": 3
   },
   "file_extension": ".py",
   "mimetype": "text/x-python",
   "name": "python",
   "nbconvert_exporter": "python",
   "pygments_lexer": "ipython3",
   "version": "3.7.6"
  }
 },
 "nbformat": 4,
 "nbformat_minor": 4
}
